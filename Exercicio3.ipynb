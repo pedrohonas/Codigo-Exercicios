{
  "nbformat": 4,
  "nbformat_minor": 0,
  "metadata": {
    "colab": {
      "provenance": []
    },
    "kernelspec": {
      "name": "python3",
      "display_name": "Python 3"
    },
    "language_info": {
      "name": "python"
    }
  },
  "cells": [
    {
      "cell_type": "code",
      "execution_count": 3,
      "metadata": {
        "colab": {
          "base_uri": "https://localhost:8080/"
        },
        "id": "ziICsK0LbwWz",
        "outputId": "422d723e-1cfc-46a4-90a7-9e369bba9dae"
      },
      "outputs": [
        {
          "output_type": "stream",
          "name": "stdout",
          "text": [
            "Digite a primeira nota: 5\n",
            "Digite a segunda nota: 5\n",
            "Reprovado\n"
          ]
        }
      ],
      "source": [
        "# Exercício 1\n",
        "nota1 = float(input(\"Digite a primeira nota: \"))\n",
        "nota2 = float(input(\"Digite a segunda nota: \"))\n",
        "\n",
        "media = (nota1 + nota2) / 2\n",
        "\n",
        "if media == 10:\n",
        "    print(\"Aprovado com Distinção\")\n",
        "elif media >= 7:\n",
        "    print(\"Aprovado\")\n",
        "else:\n",
        "    print(\"Reprovado\")"
      ]
    },
    {
      "cell_type": "code",
      "source": [
        "# Exercício 2\n",
        "num1 = float(input(\"Digite o primeiro número: \"))\n",
        "num2 = float(input(\"Digite o segundo número: \"))\n",
        "num3 = float(input(\"Digite o terceiro número: \"))\n",
        "\n",
        "maior = max(num1, num2, num3)\n",
        "menor = min(num1, num2, num3)\n",
        "\n",
        "print(f\"O maior número é: {maior}\")\n",
        "print(f\"O menor número é: {menor}\")"
      ],
      "metadata": {
        "colab": {
          "base_uri": "https://localhost:8080/"
        },
        "id": "HcUpq34IcXcK",
        "outputId": "aaac88e8-c2d8-456c-a6c4-1d4b53144da5"
      },
      "execution_count": 8,
      "outputs": [
        {
          "output_type": "stream",
          "name": "stdout",
          "text": [
            "Digite o primeiro número: 1\n",
            "Digite o segundo número: 2\n",
            "Digite o terceiro número: 3\n",
            "O maior número é: 3.0\n",
            "O menor número é: 1.0\n"
          ]
        }
      ]
    },
    {
      "cell_type": "code",
      "source": [
        "# Exercício 3\n",
        "nome = input(\"Digite um nome: \").upper()\n",
        "\n",
        "for i in range(1, len(nome) + 1):\n",
        "    print(nome[:i])"
      ],
      "metadata": {
        "colab": {
          "base_uri": "https://localhost:8080/"
        },
        "id": "TZ9WXOeac7-h",
        "outputId": "b4892bf6-edda-4245-fac4-a3e15264a8a2"
      },
      "execution_count": 6,
      "outputs": [
        {
          "output_type": "stream",
          "name": "stdout",
          "text": [
            "Digite um nome: pedro\n",
            "P\n",
            "PE\n",
            "PED\n",
            "PEDR\n",
            "PEDRO\n"
          ]
        }
      ]
    },
    {
      "cell_type": "code",
      "source": [
        "# Exercício 4\n",
        "n = int(input(\"Digite o número de termos da sequência de Fibonacci: \"))\n",
        "\n",
        "fibonacci = [1, 1]\n",
        "\n",
        "for i in range(2, n):\n",
        "    proximo = fibonacci[i-1] + fibonacci[i-2]\n",
        "    fibonacci.append(proximo)\n",
        "\n",
        "print(\"Sequência de Fibonacci:\", fibonacci[:n])"
      ],
      "metadata": {
        "colab": {
          "base_uri": "https://localhost:8080/"
        },
        "id": "bhYz0RmLdlpS",
        "outputId": "3f61c199-72d0-40dc-9f23-d0389d6476a1"
      },
      "execution_count": 15,
      "outputs": [
        {
          "output_type": "stream",
          "name": "stdout",
          "text": [
            "Digite o número de termos da sequência de Fibonacci: 20\n",
            "Sequência de Fibonacci: [1, 1, 2, 3, 5, 8, 13, 21, 34, 55, 89, 144, 233, 377, 610, 987, 1597, 2584, 4181, 6765]\n"
          ]
        }
      ]
    },
    {
      "cell_type": "code",
      "source": [
        "# Exercício 5\n",
        "def validar_nome():\n",
        "    while True:\n",
        "        nome = input(\"Digite seu nome: \").strip()\n",
        "        if len(nome) > 3:\n",
        "            return nome\n",
        "        print(\"Erro: O nome deve ter mais de 3 caracteres.\")\n",
        "\n",
        "def validar_idade():\n",
        "    while True:\n",
        "        try:\n",
        "            idade = int(input(\"Digite sua idade: \"))\n",
        "            if 0 <= idade <= 150:\n",
        "                return idade\n",
        "            print(\"Erro: A idade deve estar entre 0 e 150.\")\n",
        "        except ValueError:\n",
        "            print(\"Erro: Digite um número inteiro válido para a idade.\")\n",
        "\n",
        "def validar_salario():\n",
        "    while True:\n",
        "        try:\n",
        "            salario = float(input(\"Digite seu salário: \"))\n",
        "            if salario > 0:\n",
        "                return salario\n",
        "            print(\"Erro: O salário deve ser maior que zero.\")\n",
        "        except ValueError:\n",
        "            print(\"Erro: Digite um número válido para o salário.\")\n",
        "\n",
        "def validar_sexo():\n",
        "    while True:\n",
        "        sexo = input(\"Digite seu sexo (f/m): \").strip().lower()\n",
        "        if sexo in ['f', 'm']:\n",
        "            return sexo\n",
        "        print(\"Erro: O sexo deve ser 'f' ou 'm'.\")\n",
        "\n",
        "def validar_estado_civil():\n",
        "    while True:\n",
        "        estado_civil = input(\"Digite seu estado civil (s, c, v, d): \").strip().lower()\n",
        "        if estado_civil in ['s', 'c', 'v', 'd']:\n",
        "            return estado_civil\n",
        "        print(\"Erro: O estado civil deve ser 's', 'c', 'v' ou 'd'.\")\n",
        "\n",
        "nome = validar_nome()\n",
        "idade = validar_idade()\n",
        "salario = validar_salario()\n",
        "sexo = validar_sexo()\n",
        "estado_civil = validar_estado_civil()\n",
        "\n",
        "print(\"\\nInformações Validadas:\")\n",
        "print(f\"Nome: {nome}\")\n",
        "print(f\"Idade: {idade}\")\n",
        "print(f\"Salário: R$ {salario:.2f}\")\n",
        "print(f\"Sexo: {sexo}\")\n",
        "print(f\"Estado Civil: {estado_civil}\")"
      ],
      "metadata": {
        "colab": {
          "base_uri": "https://localhost:8080/"
        },
        "id": "pwRY_e01duWg",
        "outputId": "baf61e13-2a48-4c71-d5e5-59e9304a6938"
      },
      "execution_count": 9,
      "outputs": [
        {
          "output_type": "stream",
          "name": "stdout",
          "text": [
            "Digite seu nome: Pedro\n",
            "Digite sua idade: 22\n",
            "Digite seu salário: 100\n",
            "Digite seu sexo (f/m): m\n",
            "Digite seu estado civil (s, c, v, d): s\n",
            "\n",
            "Informações Validadas:\n",
            "Nome: Pedro\n",
            "Idade: 22\n",
            "Salário: R$ 100.00\n",
            "Sexo: m\n",
            "Estado Civil: s\n"
          ]
        }
      ]
    },
    {
      "cell_type": "code",
      "source": [
        "# Exercício 6\n",
        "def eh_primo(n):\n",
        "    if n < 2:\n",
        "        return False\n",
        "    for i in range(2, int(n ** 0.5) + 1):\n",
        "        if n % i == 0:\n",
        "            return False\n",
        "    return True\n",
        "\n",
        "num = int(input(\"Digite um número inteiro: \"))\n",
        "\n",
        "if eh_primo(num):\n",
        "    print(f\"{num} é um número primo.\")\n",
        "else:\n",
        "    print(f\"{num} não é um número primo.\")\n"
      ],
      "metadata": {
        "colab": {
          "base_uri": "https://localhost:8080/"
        },
        "id": "aKcCHJQwdvaY",
        "outputId": "51c1f4ff-445a-48aa-bc2a-63cb16247d6b"
      },
      "execution_count": 13,
      "outputs": [
        {
          "output_type": "stream",
          "name": "stdout",
          "text": [
            "Digite um número inteiro: 5\n",
            "5 é um número primo.\n"
          ]
        }
      ]
    }
  ]
}