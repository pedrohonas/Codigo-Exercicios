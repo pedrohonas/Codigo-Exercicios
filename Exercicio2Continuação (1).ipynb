{
  "nbformat": 4,
  "nbformat_minor": 0,
  "metadata": {
    "colab": {
      "provenance": []
    },
    "kernelspec": {
      "name": "python3",
      "display_name": "Python 3"
    },
    "language_info": {
      "name": "python"
    }
  },
  "cells": [
    {
      "cell_type": "code",
      "execution_count": 1,
      "metadata": {
        "colab": {
          "base_uri": "https://localhost:8080/"
        },
        "id": "VrEPYW3XRttc",
        "outputId": "66b322f7-c319-42fc-d841-2baf9268b5c6"
      },
      "outputs": [
        {
          "output_type": "execute_result",
          "data": {
            "text/plain": [
              "{'nome': 'Carlos', 'idade': 30, 'cidade': 'São Paulo'}"
            ]
          },
          "metadata": {},
          "execution_count": 1
        }
      ],
      "source": [
        "# Exercício 4\n",
        "pessoa = {\"nome\": \"Carlos\", \"idade\": 30, \"cidade\": \"São Paulo\"}\n",
        "pessoa"
      ]
    },
    {
      "cell_type": "code",
      "source": [
        "# Exercício 4\n",
        "pessoa[\"nome\"]"
      ],
      "metadata": {
        "colab": {
          "base_uri": "https://localhost:8080/",
          "height": 36
        },
        "id": "oj0YB8tWSGiT",
        "outputId": "e5e10477-0044-45ae-fa33-9f1f82e0d19b"
      },
      "execution_count": 2,
      "outputs": [
        {
          "output_type": "execute_result",
          "data": {
            "text/plain": [
              "'Carlos'"
            ],
            "application/vnd.google.colaboratory.intrinsic+json": {
              "type": "string"
            }
          },
          "metadata": {},
          "execution_count": 2
        }
      ]
    },
    {
      "cell_type": "code",
      "source": [
        "pessoa[\"idade\"] = 31\n",
        "pessoa"
      ],
      "metadata": {
        "colab": {
          "base_uri": "https://localhost:8080/"
        },
        "id": "Ls-AvitnSITb",
        "outputId": "2658c68d-bdd6-48bf-bd7f-1840d9cf498d"
      },
      "execution_count": 3,
      "outputs": [
        {
          "output_type": "execute_result",
          "data": {
            "text/plain": [
              "{'nome': 'Carlos', 'idade': 31, 'cidade': 'São Paulo'}"
            ]
          },
          "metadata": {},
          "execution_count": 3
        }
      ]
    },
    {
      "cell_type": "code",
      "source": [
        "pessoa[\"profissão\"] = \"engenheiro\"\n",
        "pessoa"
      ],
      "metadata": {
        "colab": {
          "base_uri": "https://localhost:8080/"
        },
        "id": "PiN9hU1ZSL6j",
        "outputId": "1ebf6c2d-7ba5-4c24-e801-5ae9dd4d7e5d"
      },
      "execution_count": 4,
      "outputs": [
        {
          "output_type": "execute_result",
          "data": {
            "text/plain": [
              "{'nome': 'Carlos',\n",
              " 'idade': 31,\n",
              " 'cidade': 'São Paulo',\n",
              " 'profissão': 'engenheiro'}"
            ]
          },
          "metadata": {},
          "execution_count": 4
        }
      ]
    },
    {
      "cell_type": "code",
      "source": [
        "# Exercício 4\n",
        "pessoa.pop(\"cidade\")"
      ],
      "metadata": {
        "colab": {
          "base_uri": "https://localhost:8080/",
          "height": 36
        },
        "id": "9CMZF8uCSNG6",
        "outputId": "f4d4b39c-6afc-49fa-dbb5-78df2c3b0563"
      },
      "execution_count": 5,
      "outputs": [
        {
          "output_type": "execute_result",
          "data": {
            "text/plain": [
              "'São Paulo'"
            ],
            "application/vnd.google.colaboratory.intrinsic+json": {
              "type": "string"
            }
          },
          "metadata": {},
          "execution_count": 5
        }
      ]
    },
    {
      "cell_type": "code",
      "source": [
        "# Exercício 4\n",
        "pessoa.keys()"
      ],
      "metadata": {
        "colab": {
          "base_uri": "https://localhost:8080/"
        },
        "id": "h5Lrg8IlSQBE",
        "outputId": "ecabeb4f-2558-4000-b610-168803ee74fe"
      },
      "execution_count": 8,
      "outputs": [
        {
          "output_type": "execute_result",
          "data": {
            "text/plain": [
              "dict_keys(['nome', 'idade', 'profissão'])"
            ]
          },
          "metadata": {},
          "execution_count": 8
        }
      ]
    },
    {
      "cell_type": "code",
      "source": [
        "# Exercício 4\n",
        "pessoa.values()"
      ],
      "metadata": {
        "colab": {
          "base_uri": "https://localhost:8080/"
        },
        "id": "geqWPvHiSUy7",
        "outputId": "3d751307-6025-47de-d879-8f4635a97237"
      },
      "execution_count": 7,
      "outputs": [
        {
          "output_type": "execute_result",
          "data": {
            "text/plain": [
              "dict_values(['Carlos', 31, 'engenheiro'])"
            ]
          },
          "metadata": {},
          "execution_count": 7
        }
      ]
    },
    {
      "cell_type": "code",
      "source": [
        "# Exercício 5\n",
        "cores = (\"vermelho\", \"azul\", \"verde\", \"amarelo\", \"roxo\")\n",
        "cores"
      ],
      "metadata": {
        "colab": {
          "base_uri": "https://localhost:8080/"
        },
        "id": "LjZhp_lTSYcS",
        "outputId": "444f1e03-f8a7-4d7e-86a9-08e1efc1b8fd"
      },
      "execution_count": 9,
      "outputs": [
        {
          "output_type": "execute_result",
          "data": {
            "text/plain": [
              "('vermelho', 'azul', 'verde', 'amarelo', 'roxo')"
            ]
          },
          "metadata": {},
          "execution_count": 9
        }
      ]
    },
    {
      "cell_type": "code",
      "source": [
        "# Exercício 5\n",
        "cores[1]"
      ],
      "metadata": {
        "colab": {
          "base_uri": "https://localhost:8080/",
          "height": 36
        },
        "id": "mcs4iMsXSi9U",
        "outputId": "a2653e10-8682-4f10-c786-1ff45fb1e059"
      },
      "execution_count": 10,
      "outputs": [
        {
          "output_type": "execute_result",
          "data": {
            "text/plain": [
              "'azul'"
            ],
            "application/vnd.google.colaboratory.intrinsic+json": {
              "type": "string"
            }
          },
          "metadata": {},
          "execution_count": 10
        }
      ]
    },
    {
      "cell_type": "code",
      "source": [
        "# Exercício 5\n",
        "if \"azul\" in cores:\n",
        "  print(\"true\")\n",
        "else:\n",
        "  print(\"false\")"
      ],
      "metadata": {
        "colab": {
          "base_uri": "https://localhost:8080/"
        },
        "id": "djnpx7CTSkyF",
        "outputId": "1b8621cd-bec1-4198-f785-00b05194ab3d"
      },
      "execution_count": 11,
      "outputs": [
        {
          "output_type": "stream",
          "name": "stdout",
          "text": [
            "true\n"
          ]
        }
      ]
    },
    {
      "cell_type": "code",
      "source": [
        "# Exercício 5\n",
        "numeros = (1,2,3,4,5)\n",
        "numeros"
      ],
      "metadata": {
        "colab": {
          "base_uri": "https://localhost:8080/"
        },
        "id": "Yw7WWfeCS7uH",
        "outputId": "e7f4506c-9aba-4b33-b7f6-32ed245cfb73"
      },
      "execution_count": 12,
      "outputs": [
        {
          "output_type": "execute_result",
          "data": {
            "text/plain": [
              "(1, 2, 3, 4, 5)"
            ]
          },
          "metadata": {},
          "execution_count": 12
        }
      ]
    },
    {
      "cell_type": "code",
      "source": [
        "# Exercício 5\n",
        "# Não é possível somar os números de uma tupla. Apenas em listas"
      ],
      "metadata": {
        "id": "hhg0e1nPTTKd"
      },
      "execution_count": null,
      "outputs": []
    },
    {
      "cell_type": "code",
      "source": [
        "# Exercício 5\n",
        "# Não é possível alterar um valor de uma tupla. Apenas em listas"
      ],
      "metadata": {
        "id": "4EhrKQ-LUpEt"
      },
      "execution_count": null,
      "outputs": []
    },
    {
      "cell_type": "code",
      "source": [
        "# Exercício 5\n",
        "nova_cores = cores + (\"preto\",\"branco\")\n",
        "nova_cores"
      ],
      "metadata": {
        "colab": {
          "base_uri": "https://localhost:8080/"
        },
        "id": "42wReVemTSk8",
        "outputId": "e4dcee62-618f-4f69-e11f-a3b0021b06c7"
      },
      "execution_count": 14,
      "outputs": [
        {
          "output_type": "execute_result",
          "data": {
            "text/plain": [
              "('vermelho', 'azul', 'verde', 'amarelo', 'roxo', 'preto', 'branco')"
            ]
          },
          "metadata": {},
          "execution_count": 14
        }
      ]
    },
    {
      "cell_type": "code",
      "source": [
        "# Exercício 9\n",
        "print(\"Digite quanto você ganha por hora: \")\n",
        "ganho_por_hora = float(input())\n",
        "print(\"Digite o número de horas trabalha no mês: \")\n",
        "horas_trabalhadas = float(input())\n",
        "\n",
        "salario_bruto = ganho_por_hora * horas_trabalhadas\n",
        "\n",
        "imposto_renda = salario_bruto * 0.11  # 11% de imposto de renda\n",
        "inss = salario_bruto * 0.08  # 8% para o INSS\n",
        "sindicato = salario_bruto * 0.05  # 5% para o sindicato\n",
        "\n",
        "salario_liquido = salario_bruto - (imposto_renda + inss + sindicato)\n",
        "\n",
        "print(f\"Salário Bruto: R$ {salario_bruto:.2f}\")\n",
        "print(f\"Desconto INSS: R$ {inss:.2f}\")\n",
        "print(f\"Desconto Sindicato: R$ {sindicato:.2f}\")\n",
        "print(f\"Desconto Imposto de Renda: R$ {imposto_renda:.2f}\")\n",
        "print(f\"Salário Líquido: R$ {salario_liquido:.2f}\")"
      ],
      "metadata": {
        "colab": {
          "base_uri": "https://localhost:8080/"
        },
        "id": "44BcBu6eVTOs",
        "outputId": "6922ec32-7dac-4f05-e5b6-c8dc9e2c3f46"
      },
      "execution_count": 2,
      "outputs": [
        {
          "output_type": "stream",
          "name": "stdout",
          "text": [
            "Digite quanto você ganha por hora: \n",
            "10\n",
            "Digite o número de horas trabalha no mês: \n",
            "6\n",
            "Salário Bruto: R$ {salario_bruto: }\n",
            "Desconto INSS: R$ {inss: }\n",
            "Desconto Sindicato: R$ {sindicato: }\n",
            "Desconto Imposto de Renda: R$ {imposto_renda: }\n",
            "Salário Líquido: R$ {salario_liquido: }\n"
          ]
        }
      ]
    }
  ]
}