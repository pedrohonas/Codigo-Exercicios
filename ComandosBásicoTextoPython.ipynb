{
 "cells": [
  {
   "cell_type": "code",
   "execution_count": 1,
   "id": "a5733b32-c7ce-472f-8b52-beff683f1744",
   "metadata": {
    "tags": []
   },
   "outputs": [
    {
     "data": {
      "text/plain": [
       "3"
      ]
     },
     "execution_count": 1,
     "metadata": {},
     "output_type": "execute_result"
    }
   ],
   "source": [
    "# Número e operações básicas\n",
    "\n",
    "2 + 1"
   ]
  },
  {
   "cell_type": "code",
   "execution_count": 2,
   "id": "988e5648-eae5-46e3-a0ce-08754722dd49",
   "metadata": {
    "tags": []
   },
   "outputs": [
    {
     "data": {
      "text/plain": [
       "5"
      ]
     },
     "execution_count": 2,
     "metadata": {},
     "output_type": "execute_result"
    }
   ],
   "source": [
    "# Variáveis\n",
    "\n",
    "a = 5\n",
    "a"
   ]
  },
  {
   "cell_type": "code",
   "execution_count": 4,
   "id": "d4fb32ff-3449-410b-9422-8126ec491cd8",
   "metadata": {
    "tags": []
   },
   "outputs": [],
   "source": [
    "# Não pode comçar varivel com um número. O jeito correto, seria:\n",
    "\n",
    "variavel_um = 2"
   ]
  },
  {
   "cell_type": "code",
   "execution_count": 5,
   "id": "0f411a53-9d04-40de-a8ec-f429c6b5eda1",
   "metadata": {
    "tags": []
   },
   "outputs": [
    {
     "data": {
      "text/plain": [
       "7"
      ]
     },
     "execution_count": 5,
     "metadata": {},
     "output_type": "execute_result"
    }
   ],
   "source": [
    "terceira_variavel = a + variavel_um\n",
    "terceira_variavel"
   ]
  },
  {
   "cell_type": "code",
   "execution_count": 12,
   "id": "fb7ee57a-be34-4626-80ef-eac53533c941",
   "metadata": {
    "tags": []
   },
   "outputs": [
    {
     "data": {
      "text/plain": [
       "293873587705571876992184134305561419454666389193021880377187926569604314863681793212890625"
      ]
     },
     "execution_count": 12,
     "metadata": {},
     "output_type": "execute_result"
    }
   ],
   "source": [
    "a = a ** 2\n",
    "a"
   ]
  },
  {
   "cell_type": "code",
   "execution_count": 13,
   "id": "23f89ce6-40b4-422d-ac2a-2cef252a533e",
   "metadata": {
    "tags": []
   },
   "outputs": [
    {
     "data": {
      "text/plain": [
       "'pedro'"
      ]
     },
     "execution_count": 13,
     "metadata": {},
     "output_type": "execute_result"
    }
   ],
   "source": [
    "minha_strin = \"pedro\"\n",
    "minha_strin"
   ]
  },
  {
   "cell_type": "code",
   "execution_count": 16,
   "id": "954737c2-4cfd-4982-8bd6-98ad58c30883",
   "metadata": {
    "tags": []
   },
   "outputs": [
    {
     "data": {
      "text/plain": [
       "'pedro não está okay'"
      ]
     },
     "execution_count": 16,
     "metadata": {},
     "output_type": "execute_result"
    }
   ],
   "source": [
    "minha_strin_2 = \" não está okay\"\n",
    "minha_strin + minha_strin_2"
   ]
  },
  {
   "cell_type": "code",
   "execution_count": 17,
   "id": "63392b08-7b56-474e-8754-763030808c5f",
   "metadata": {
    "tags": []
   },
   "outputs": [
    {
     "data": {
      "text/plain": [
       "5"
      ]
     },
     "execution_count": 17,
     "metadata": {},
     "output_type": "execute_result"
    }
   ],
   "source": [
    "len(minha_strin)"
   ]
  },
  {
   "cell_type": "code",
   "execution_count": 20,
   "id": "341b3c83-eced-48f5-920b-6bcd520db682",
   "metadata": {
    "tags": []
   },
   "outputs": [
    {
     "data": {
      "text/plain": [
       "'d'"
      ]
     },
     "execution_count": 20,
     "metadata": {},
     "output_type": "execute_result"
    }
   ],
   "source": [
    "minha_strin[2]"
   ]
  },
  {
   "cell_type": "code",
   "execution_count": 21,
   "id": "e63533c3-1b7f-44b0-a5e2-2e4f92eb6384",
   "metadata": {
    "tags": []
   },
   "outputs": [
    {
     "data": {
      "text/plain": [
       "'edr'"
      ]
     },
     "execution_count": 21,
     "metadata": {},
     "output_type": "execute_result"
    }
   ],
   "source": [
    "minha_strin[1:4]"
   ]
  },
  {
   "cell_type": "code",
   "execution_count": 22,
   "id": "bf48772f-3809-4226-9163-4b2399f6fc03",
   "metadata": {
    "tags": []
   },
   "outputs": [
    {
     "data": {
      "text/plain": [
       "'edro'"
      ]
     },
     "execution_count": 22,
     "metadata": {},
     "output_type": "execute_result"
    }
   ],
   "source": [
    "minha_strin[1:]"
   ]
  },
  {
   "cell_type": "code",
   "execution_count": 23,
   "id": "45e244f3-be1d-4615-9d35-82e29305b03b",
   "metadata": {
    "tags": []
   },
   "outputs": [
    {
     "data": {
      "text/plain": [
       "'o'"
      ]
     },
     "execution_count": 23,
     "metadata": {},
     "output_type": "execute_result"
    }
   ],
   "source": [
    "minha_strin[-1]"
   ]
  },
  {
   "cell_type": "code",
   "execution_count": 25,
   "id": "3ec9bbb2-09df-48f4-8cd4-4939b9f17426",
   "metadata": {
    "tags": []
   },
   "outputs": [
    {
     "data": {
      "text/plain": [
       "'PEDRO'"
      ]
     },
     "execution_count": 25,
     "metadata": {},
     "output_type": "execute_result"
    }
   ],
   "source": [
    "# Métodos embutidos para strings\n",
    "\n",
    "# Converter para caíxa alta\n",
    "minha_strin.upper()"
   ]
  },
  {
   "cell_type": "code",
   "execution_count": 26,
   "id": "baa167f1-db5d-4b2e-86d3-da9d1fb80818",
   "metadata": {
    "tags": []
   },
   "outputs": [
    {
     "data": {
      "text/plain": [
       "'pedro'"
      ]
     },
     "execution_count": 26,
     "metadata": {},
     "output_type": "execute_result"
    }
   ],
   "source": [
    "minha_strin.lower()"
   ]
  },
  {
   "cell_type": "code",
   "execution_count": 28,
   "id": "fca6fea7-65d0-4655-9443-9734e7d0790a",
   "metadata": {
    "tags": []
   },
   "outputs": [
    {
     "data": {
      "text/plain": [
       "['Pedro', 'okay']"
      ]
     },
     "execution_count": 28,
     "metadata": {},
     "output_type": "execute_result"
    }
   ],
   "source": [
    "\"Pedro okay\".split()"
   ]
  },
  {
   "cell_type": "code",
   "execution_count": 29,
   "id": "b63e69bb-6d62-467c-8d13-89f0ca1604c3",
   "metadata": {
    "tags": []
   },
   "outputs": [
    {
     "data": {
      "text/plain": [
       "['', 'edro okay']"
      ]
     },
     "execution_count": 29,
     "metadata": {},
     "output_type": "execute_result"
    }
   ],
   "source": [
    "\"Pedro okay\".split(\"P\")"
   ]
  },
  {
   "cell_type": "code",
   "execution_count": 30,
   "id": "4a7a9691-c778-4a56-a6e9-68947119cb35",
   "metadata": {
    "tags": []
   },
   "outputs": [
    {
     "name": "stdout",
     "output_type": "stream",
     "text": [
      "Idade da pessoa é: 22 e o nome da pessoa é Pedro\n"
     ]
    }
   ],
   "source": [
    "idade = 22\n",
    "nome = \"Pedro\"\n",
    "\n",
    "print(\"Idade da pessoa é: {a} e o nome da pessoa é {b}\".format(a = idade, b = nome))"
   ]
  },
  {
   "cell_type": "code",
   "execution_count": 31,
   "id": "62486d63-5f0e-46a5-b063-76fefb5f64c0",
   "metadata": {
    "tags": []
   },
   "outputs": [
    {
     "data": {
      "text/plain": [
       "[1, 2, 3]"
      ]
     },
     "execution_count": 31,
     "metadata": {},
     "output_type": "execute_result"
    }
   ],
   "source": [
    "# Listas\n",
    "\n",
    "minha_lista = [1,2,3]\n",
    "minha_lista"
   ]
  },
  {
   "cell_type": "code",
   "execution_count": 32,
   "id": "31052c5a-9e19-4612-8851-3329d2ed0a81",
   "metadata": {
    "tags": []
   },
   "outputs": [
    {
     "data": {
      "text/plain": [
       "[2]"
      ]
     },
     "execution_count": 32,
     "metadata": {},
     "output_type": "execute_result"
    }
   ],
   "source": [
    "minha_lista[1:-1]"
   ]
  },
  {
   "cell_type": "code",
   "execution_count": 42,
   "id": "79c2001e-c936-492e-aec8-21329582f4d8",
   "metadata": {
    "tags": []
   },
   "outputs": [
    {
     "data": {
      "text/plain": [
       "[1, 2, 3, 4]"
      ]
     },
     "execution_count": 42,
     "metadata": {},
     "output_type": "execute_result"
    }
   ],
   "source": [
    "# Métodos básicos de lista\n",
    "\n",
    "l=[1,2,3]\n",
    "l.append(4)\n",
    "l"
   ]
  },
  {
   "cell_type": "code",
   "execution_count": 43,
   "id": "22fd8f03-b22a-4b70-989e-59ec5655fb98",
   "metadata": {
    "tags": []
   },
   "outputs": [
    {
     "data": {
      "text/plain": [
       "[1, 2, 3]"
      ]
     },
     "execution_count": 43,
     "metadata": {},
     "output_type": "execute_result"
    }
   ],
   "source": [
    "l.pop()\n",
    "l"
   ]
  },
  {
   "cell_type": "code",
   "execution_count": 46,
   "id": "33550bbe-d9bc-4d4f-ad5b-47a4fb0a64b1",
   "metadata": {
    "tags": []
   },
   "outputs": [
    {
     "data": {
      "text/plain": [
       "['a', 'b', 'c', 'd']"
      ]
     },
     "execution_count": 46,
     "metadata": {},
     "output_type": "execute_result"
    }
   ],
   "source": [
    "outra_lista = [\"a\",\"b\",\"c\",\"d\"]\n",
    "outra_lista.sort()\n",
    "outra_lista"
   ]
  },
  {
   "cell_type": "code",
   "execution_count": 47,
   "id": "03c77708-a06d-4d7d-81be-e9805dd4adb2",
   "metadata": {
    "tags": []
   },
   "outputs": [
    {
     "data": {
      "text/plain": [
       "['d', 'c', 'b', 'a']"
      ]
     },
     "execution_count": 47,
     "metadata": {},
     "output_type": "execute_result"
    }
   ],
   "source": [
    "outra_lista.reverse()\n",
    "outra_lista"
   ]
  },
  {
   "cell_type": "code",
   "execution_count": 48,
   "id": "a1ce0739-79f2-4ee9-990f-b0615afef2a6",
   "metadata": {
    "tags": []
   },
   "outputs": [
    {
     "name": "stdout",
     "output_type": "stream",
     "text": [
      "Digite seu nome: \n"
     ]
    },
    {
     "name": "stdin",
     "output_type": "stream",
     "text": [
      " pedro\n"
     ]
    },
    {
     "name": "stdout",
     "output_type": "stream",
     "text": [
      "Olá, pedro\n"
     ]
    }
   ],
   "source": [
    "# Inputs\n",
    "\n",
    "print(\"Digite seu nome: \")\n",
    "a = input()\n",
    "print(\"Olá,\", a)\n"
   ]
  }
 ],
 "metadata": {
  "kernelspec": {
   "display_name": "Python 3 (ipykernel)",
   "language": "python",
   "name": "python3"
  },
  "language_info": {
   "codemirror_mode": {
    "name": "ipython",
    "version": 3
   },
   "file_extension": ".py",
   "mimetype": "text/x-python",
   "name": "python",
   "nbconvert_exporter": "python",
   "pygments_lexer": "ipython3",
   "version": "3.11.5"
  }
 },
 "nbformat": 4,
 "nbformat_minor": 5
}
