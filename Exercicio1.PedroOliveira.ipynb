{
 "cells": [
  {
   "cell_type": "code",
   "execution_count": 1,
   "id": "9288d6e5-0dee-43d4-869f-731b44aac3ab",
   "metadata": {
    "tags": []
   },
   "outputs": [
    {
     "data": {
      "text/html": [
       "<div>\n",
       "<style scoped>\n",
       "    .dataframe tbody tr th:only-of-type {\n",
       "        vertical-align: middle;\n",
       "    }\n",
       "\n",
       "    .dataframe tbody tr th {\n",
       "        vertical-align: top;\n",
       "    }\n",
       "\n",
       "    .dataframe thead th {\n",
       "        text-align: right;\n",
       "    }\n",
       "</style>\n",
       "<table border=\"1\" class=\"dataframe\">\n",
       "  <thead>\n",
       "    <tr style=\"text-align: right;\">\n",
       "      <th></th>\n",
       "      <th>Id</th>\n",
       "      <th>Bloco</th>\n",
       "      <th>Andar</th>\n",
       "      <th>Final</th>\n",
       "      <th>Sala</th>\n",
       "      <th>Cozinha</th>\n",
       "      <th>Banheiro</th>\n",
       "      <th>Dorm</th>\n",
       "      <th>Rachadura</th>\n",
       "      <th>Infiltr</th>\n",
       "    </tr>\n",
       "  </thead>\n",
       "  <tbody>\n",
       "    <tr>\n",
       "      <th>0</th>\n",
       "      <td>1</td>\n",
       "      <td>A</td>\n",
       "      <td>1</td>\n",
       "      <td>1</td>\n",
       "      <td>27.8</td>\n",
       "      <td>7.9</td>\n",
       "      <td>5.0</td>\n",
       "      <td>11.6</td>\n",
       "      <td>ausente</td>\n",
       "      <td>ausente</td>\n",
       "    </tr>\n",
       "    <tr>\n",
       "      <th>1</th>\n",
       "      <td>2</td>\n",
       "      <td>A</td>\n",
       "      <td>1</td>\n",
       "      <td>2</td>\n",
       "      <td>28.3</td>\n",
       "      <td>7.3</td>\n",
       "      <td>5.4</td>\n",
       "      <td>13.1</td>\n",
       "      <td>ausente</td>\n",
       "      <td>ausente</td>\n",
       "    </tr>\n",
       "    <tr>\n",
       "      <th>2</th>\n",
       "      <td>3</td>\n",
       "      <td>A</td>\n",
       "      <td>1</td>\n",
       "      <td>3</td>\n",
       "      <td>27.1</td>\n",
       "      <td>7.1</td>\n",
       "      <td>5.0</td>\n",
       "      <td>14.9</td>\n",
       "      <td>ausente</td>\n",
       "      <td>ausente</td>\n",
       "    </tr>\n",
       "    <tr>\n",
       "      <th>3</th>\n",
       "      <td>4</td>\n",
       "      <td>A</td>\n",
       "      <td>1</td>\n",
       "      <td>4</td>\n",
       "      <td>26.5</td>\n",
       "      <td>8.4</td>\n",
       "      <td>3.9</td>\n",
       "      <td>12.4</td>\n",
       "      <td>presente</td>\n",
       "      <td>presente</td>\n",
       "    </tr>\n",
       "    <tr>\n",
       "      <th>4</th>\n",
       "      <td>5</td>\n",
       "      <td>A</td>\n",
       "      <td>2</td>\n",
       "      <td>1</td>\n",
       "      <td>27.7</td>\n",
       "      <td>7.6</td>\n",
       "      <td>4.7</td>\n",
       "      <td>12.1</td>\n",
       "      <td>ausente</td>\n",
       "      <td>ausente</td>\n",
       "    </tr>\n",
       "    <tr>\n",
       "      <th>...</th>\n",
       "      <td>...</td>\n",
       "      <td>...</td>\n",
       "      <td>...</td>\n",
       "      <td>...</td>\n",
       "      <td>...</td>\n",
       "      <td>...</td>\n",
       "      <td>...</td>\n",
       "      <td>...</td>\n",
       "      <td>...</td>\n",
       "      <td>...</td>\n",
       "    </tr>\n",
       "    <tr>\n",
       "      <th>147</th>\n",
       "      <td>148</td>\n",
       "      <td>B</td>\n",
       "      <td>18</td>\n",
       "      <td>4</td>\n",
       "      <td>23.5</td>\n",
       "      <td>7.4</td>\n",
       "      <td>4.3</td>\n",
       "      <td>12.2</td>\n",
       "      <td>ausente</td>\n",
       "      <td>presente</td>\n",
       "    </tr>\n",
       "    <tr>\n",
       "      <th>148</th>\n",
       "      <td>149</td>\n",
       "      <td>B</td>\n",
       "      <td>19</td>\n",
       "      <td>1</td>\n",
       "      <td>24.1</td>\n",
       "      <td>8.3</td>\n",
       "      <td>4.8</td>\n",
       "      <td>12.9</td>\n",
       "      <td>ausente</td>\n",
       "      <td>ausente</td>\n",
       "    </tr>\n",
       "    <tr>\n",
       "      <th>149</th>\n",
       "      <td>150</td>\n",
       "      <td>B</td>\n",
       "      <td>19</td>\n",
       "      <td>2</td>\n",
       "      <td>24.1</td>\n",
       "      <td>8.0</td>\n",
       "      <td>4.5</td>\n",
       "      <td>10.9</td>\n",
       "      <td>ausente</td>\n",
       "      <td>ausente</td>\n",
       "    </tr>\n",
       "    <tr>\n",
       "      <th>150</th>\n",
       "      <td>151</td>\n",
       "      <td>B</td>\n",
       "      <td>19</td>\n",
       "      <td>3</td>\n",
       "      <td>23.0</td>\n",
       "      <td>8.5</td>\n",
       "      <td>4.3</td>\n",
       "      <td>11.7</td>\n",
       "      <td>ausente</td>\n",
       "      <td>presente</td>\n",
       "    </tr>\n",
       "    <tr>\n",
       "      <th>151</th>\n",
       "      <td>152</td>\n",
       "      <td>B</td>\n",
       "      <td>19</td>\n",
       "      <td>4</td>\n",
       "      <td>22.7</td>\n",
       "      <td>7.8</td>\n",
       "      <td>4.2</td>\n",
       "      <td>15.7</td>\n",
       "      <td>ausente</td>\n",
       "      <td>presente</td>\n",
       "    </tr>\n",
       "  </tbody>\n",
       "</table>\n",
       "<p>152 rows × 10 columns</p>\n",
       "</div>"
      ],
      "text/plain": [
       "      Id Bloco  Andar  Final  Sala  Cozinha  Banheiro  Dorm Rachadura  \\\n",
       "0      1     A      1      1  27.8      7.9       5.0  11.6   ausente   \n",
       "1      2     A      1      2  28.3      7.3       5.4  13.1   ausente   \n",
       "2      3     A      1      3  27.1      7.1       5.0  14.9   ausente   \n",
       "3      4     A      1      4  26.5      8.4       3.9  12.4  presente   \n",
       "4      5     A      2      1  27.7      7.6       4.7  12.1   ausente   \n",
       "..   ...   ...    ...    ...   ...      ...       ...   ...       ...   \n",
       "147  148     B     18      4  23.5      7.4       4.3  12.2   ausente   \n",
       "148  149     B     19      1  24.1      8.3       4.8  12.9   ausente   \n",
       "149  150     B     19      2  24.1      8.0       4.5  10.9   ausente   \n",
       "150  151     B     19      3  23.0      8.5       4.3  11.7   ausente   \n",
       "151  152     B     19      4  22.7      7.8       4.2  15.7   ausente   \n",
       "\n",
       "      Infiltr  \n",
       "0     ausente  \n",
       "1     ausente  \n",
       "2     ausente  \n",
       "3    presente  \n",
       "4     ausente  \n",
       "..        ...  \n",
       "147  presente  \n",
       "148   ausente  \n",
       "149   ausente  \n",
       "150  presente  \n",
       "151  presente  \n",
       "\n",
       "[152 rows x 10 columns]"
      ]
     },
     "execution_count": 1,
     "metadata": {},
     "output_type": "execute_result"
    }
   ],
   "source": [
    "import pandas as pd\n",
    "\n",
    "areas = pd.read_csv(\"C:/Users/20221enpro0200/Downloads/areas.csv\", sep = \";\", decimal = \",\")\n",
    "\n",
    "areas"
   ]
  },
  {
   "cell_type": "code",
   "execution_count": 9,
   "id": "e8dadac6-5e30-485d-b714-a65c9d6d1667",
   "metadata": {
    "tags": []
   },
   "outputs": [
    {
     "data": {
      "text/plain": [
       "152"
      ]
     },
     "execution_count": 9,
     "metadata": {},
     "output_type": "execute_result"
    }
   ],
   "source": [
    "# 1. a) Qual o número total de apartamentos no empreendimento?\n",
    "len (areas)"
   ]
  },
  {
   "cell_type": "code",
   "execution_count": 10,
   "id": "76932036-508a-44bd-a100-43974a8e20ad",
   "metadata": {
    "tags": []
   },
   "outputs": [
    {
     "data": {
      "text/plain": [
       "Bloco\n",
       "A    76\n",
       "B    76\n",
       "Name: count, dtype: int64"
      ]
     },
     "execution_count": 10,
     "metadata": {},
     "output_type": "execute_result"
    }
   ],
   "source": [
    "# 1. b) Quantos apartamentos existem por bloco?\n",
    "tabela_blocos = areas[\"Bloco\"].value_counts()\n",
    "\n",
    "tabela_blocos"
   ]
  },
  {
   "cell_type": "code",
   "execution_count": 11,
   "id": "b011ebf1-a4af-4b75-829b-771a88d98341",
   "metadata": {
    "tags": []
   },
   "outputs": [
    {
     "data": {
      "text/plain": [
       "Andar\n",
       "1     8\n",
       "11    8\n",
       "18    8\n",
       "17    8\n",
       "16    8\n",
       "15    8\n",
       "14    8\n",
       "13    8\n",
       "12    8\n",
       "10    8\n",
       "2     8\n",
       "9     8\n",
       "8     8\n",
       "7     8\n",
       "6     8\n",
       "5     8\n",
       "4     8\n",
       "3     8\n",
       "19    8\n",
       "Name: count, dtype: int64"
      ]
     },
     "execution_count": 11,
     "metadata": {},
     "output_type": "execute_result"
    }
   ],
   "source": [
    "# 1. c) Quantos apartamentos existem por andar? \n",
    "tabela_andar = areas[\"Andar\"].value_counts()\n",
    "\n",
    "tabela_andar"
   ]
  },
  {
   "cell_type": "code",
   "execution_count": 14,
   "id": "662077eb-bf6e-4dfd-8e84-829b5fc3d897",
   "metadata": {
    "tags": []
   },
   "outputs": [
    {
     "data": {
      "text/html": [
       "<div>\n",
       "<style scoped>\n",
       "    .dataframe tbody tr th:only-of-type {\n",
       "        vertical-align: middle;\n",
       "    }\n",
       "\n",
       "    .dataframe tbody tr th {\n",
       "        vertical-align: top;\n",
       "    }\n",
       "\n",
       "    .dataframe thead th {\n",
       "        text-align: right;\n",
       "    }\n",
       "</style>\n",
       "<table border=\"1\" class=\"dataframe\">\n",
       "  <thead>\n",
       "    <tr style=\"text-align: right;\">\n",
       "      <th></th>\n",
       "      <th>Id</th>\n",
       "      <th>Bloco</th>\n",
       "      <th>Andar</th>\n",
       "      <th>Final</th>\n",
       "      <th>Sala</th>\n",
       "      <th>Cozinha</th>\n",
       "      <th>Banheiro</th>\n",
       "      <th>Dorm</th>\n",
       "      <th>Rachadura</th>\n",
       "      <th>Infiltr</th>\n",
       "      <th>Área Total</th>\n",
       "    </tr>\n",
       "  </thead>\n",
       "  <tbody>\n",
       "    <tr>\n",
       "      <th>0</th>\n",
       "      <td>1</td>\n",
       "      <td>A</td>\n",
       "      <td>1</td>\n",
       "      <td>1</td>\n",
       "      <td>27.8</td>\n",
       "      <td>7.9</td>\n",
       "      <td>5.0</td>\n",
       "      <td>11.6</td>\n",
       "      <td>ausente</td>\n",
       "      <td>ausente</td>\n",
       "      <td>52.3</td>\n",
       "    </tr>\n",
       "    <tr>\n",
       "      <th>1</th>\n",
       "      <td>2</td>\n",
       "      <td>A</td>\n",
       "      <td>1</td>\n",
       "      <td>2</td>\n",
       "      <td>28.3</td>\n",
       "      <td>7.3</td>\n",
       "      <td>5.4</td>\n",
       "      <td>13.1</td>\n",
       "      <td>ausente</td>\n",
       "      <td>ausente</td>\n",
       "      <td>54.1</td>\n",
       "    </tr>\n",
       "    <tr>\n",
       "      <th>2</th>\n",
       "      <td>3</td>\n",
       "      <td>A</td>\n",
       "      <td>1</td>\n",
       "      <td>3</td>\n",
       "      <td>27.1</td>\n",
       "      <td>7.1</td>\n",
       "      <td>5.0</td>\n",
       "      <td>14.9</td>\n",
       "      <td>ausente</td>\n",
       "      <td>ausente</td>\n",
       "      <td>54.1</td>\n",
       "    </tr>\n",
       "    <tr>\n",
       "      <th>3</th>\n",
       "      <td>4</td>\n",
       "      <td>A</td>\n",
       "      <td>1</td>\n",
       "      <td>4</td>\n",
       "      <td>26.5</td>\n",
       "      <td>8.4</td>\n",
       "      <td>3.9</td>\n",
       "      <td>12.4</td>\n",
       "      <td>presente</td>\n",
       "      <td>presente</td>\n",
       "      <td>51.2</td>\n",
       "    </tr>\n",
       "    <tr>\n",
       "      <th>4</th>\n",
       "      <td>5</td>\n",
       "      <td>A</td>\n",
       "      <td>2</td>\n",
       "      <td>1</td>\n",
       "      <td>27.7</td>\n",
       "      <td>7.6</td>\n",
       "      <td>4.7</td>\n",
       "      <td>12.1</td>\n",
       "      <td>ausente</td>\n",
       "      <td>ausente</td>\n",
       "      <td>52.1</td>\n",
       "    </tr>\n",
       "    <tr>\n",
       "      <th>...</th>\n",
       "      <td>...</td>\n",
       "      <td>...</td>\n",
       "      <td>...</td>\n",
       "      <td>...</td>\n",
       "      <td>...</td>\n",
       "      <td>...</td>\n",
       "      <td>...</td>\n",
       "      <td>...</td>\n",
       "      <td>...</td>\n",
       "      <td>...</td>\n",
       "      <td>...</td>\n",
       "    </tr>\n",
       "    <tr>\n",
       "      <th>147</th>\n",
       "      <td>148</td>\n",
       "      <td>B</td>\n",
       "      <td>18</td>\n",
       "      <td>4</td>\n",
       "      <td>23.5</td>\n",
       "      <td>7.4</td>\n",
       "      <td>4.3</td>\n",
       "      <td>12.2</td>\n",
       "      <td>ausente</td>\n",
       "      <td>presente</td>\n",
       "      <td>47.4</td>\n",
       "    </tr>\n",
       "    <tr>\n",
       "      <th>148</th>\n",
       "      <td>149</td>\n",
       "      <td>B</td>\n",
       "      <td>19</td>\n",
       "      <td>1</td>\n",
       "      <td>24.1</td>\n",
       "      <td>8.3</td>\n",
       "      <td>4.8</td>\n",
       "      <td>12.9</td>\n",
       "      <td>ausente</td>\n",
       "      <td>ausente</td>\n",
       "      <td>50.1</td>\n",
       "    </tr>\n",
       "    <tr>\n",
       "      <th>149</th>\n",
       "      <td>150</td>\n",
       "      <td>B</td>\n",
       "      <td>19</td>\n",
       "      <td>2</td>\n",
       "      <td>24.1</td>\n",
       "      <td>8.0</td>\n",
       "      <td>4.5</td>\n",
       "      <td>10.9</td>\n",
       "      <td>ausente</td>\n",
       "      <td>ausente</td>\n",
       "      <td>47.5</td>\n",
       "    </tr>\n",
       "    <tr>\n",
       "      <th>150</th>\n",
       "      <td>151</td>\n",
       "      <td>B</td>\n",
       "      <td>19</td>\n",
       "      <td>3</td>\n",
       "      <td>23.0</td>\n",
       "      <td>8.5</td>\n",
       "      <td>4.3</td>\n",
       "      <td>11.7</td>\n",
       "      <td>ausente</td>\n",
       "      <td>presente</td>\n",
       "      <td>47.5</td>\n",
       "    </tr>\n",
       "    <tr>\n",
       "      <th>151</th>\n",
       "      <td>152</td>\n",
       "      <td>B</td>\n",
       "      <td>19</td>\n",
       "      <td>4</td>\n",
       "      <td>22.7</td>\n",
       "      <td>7.8</td>\n",
       "      <td>4.2</td>\n",
       "      <td>15.7</td>\n",
       "      <td>ausente</td>\n",
       "      <td>presente</td>\n",
       "      <td>50.4</td>\n",
       "    </tr>\n",
       "  </tbody>\n",
       "</table>\n",
       "<p>152 rows × 11 columns</p>\n",
       "</div>"
      ],
      "text/plain": [
       "      Id Bloco  Andar  Final  Sala  Cozinha  Banheiro  Dorm Rachadura  \\\n",
       "0      1     A      1      1  27.8      7.9       5.0  11.6   ausente   \n",
       "1      2     A      1      2  28.3      7.3       5.4  13.1   ausente   \n",
       "2      3     A      1      3  27.1      7.1       5.0  14.9   ausente   \n",
       "3      4     A      1      4  26.5      8.4       3.9  12.4  presente   \n",
       "4      5     A      2      1  27.7      7.6       4.7  12.1   ausente   \n",
       "..   ...   ...    ...    ...   ...      ...       ...   ...       ...   \n",
       "147  148     B     18      4  23.5      7.4       4.3  12.2   ausente   \n",
       "148  149     B     19      1  24.1      8.3       4.8  12.9   ausente   \n",
       "149  150     B     19      2  24.1      8.0       4.5  10.9   ausente   \n",
       "150  151     B     19      3  23.0      8.5       4.3  11.7   ausente   \n",
       "151  152     B     19      4  22.7      7.8       4.2  15.7   ausente   \n",
       "\n",
       "      Infiltr  Área Total  \n",
       "0     ausente        52.3  \n",
       "1     ausente        54.1  \n",
       "2     ausente        54.1  \n",
       "3    presente        51.2  \n",
       "4     ausente        52.1  \n",
       "..        ...         ...  \n",
       "147  presente        47.4  \n",
       "148   ausente        50.1  \n",
       "149   ausente        47.5  \n",
       "150  presente        47.5  \n",
       "151  presente        50.4  \n",
       "\n",
       "[152 rows x 11 columns]"
      ]
     },
     "execution_count": 14,
     "metadata": {},
     "output_type": "execute_result"
    }
   ],
   "source": [
    "# 2) Acrescente uma nova coluna calculando a área útil total de cada apartamento\n",
    "areas[\"Área Total\"] = areas[\"Sala\"] + areas[\"Cozinha\"] + areas[\"Banheiro\"] + areas[\"Dorm\"]\n",
    "areas"
   ]
  },
  {
   "cell_type": "code",
   "execution_count": 17,
   "id": "cf7640da-dc62-4ea3-9e19-9c3cf1380e68",
   "metadata": {
    "tags": []
   },
   "outputs": [],
   "source": [
    "import matplotlib.pyplot as plt"
   ]
  },
  {
   "cell_type": "code",
   "execution_count": 18,
   "id": "9a0f12e9-dd10-42db-ae0c-51123d88cd54",
   "metadata": {
    "tags": []
   },
   "outputs": [
    {
     "data": {
      "text/plain": [
       "Text(0, 0.5, 'Frequência')"
      ]
     },
     "execution_count": 18,
     "metadata": {},
     "output_type": "execute_result"
    },
    {
     "data": {
      "image/png": "[encoded data removed]",
      "text/plain": [
       "<Figure size 640x480 with 1 Axes>"
      ]
     },
     "metadata": {},
     "output_type": "display_data"
    }
   ],
   "source": [
    "# 3) Faça um histograma\n",
    "plt.hist(areas[\"Sala\"], bins = 8, edgecolor = \"black\")\n",
    "plt.title(\"Distribuição das Áreas da Sala\")\n",
    "plt.xlabel(\"Áreas\")\n",
    "plt.ylabel(\"Frequência\")"
   ]
  },
  {
   "cell_type": "code",
   "execution_count": 19,
   "id": "9d932bec-ecf9-4fc0-b097-b0869cf59411",
   "metadata": {
    "tags": []
   },
   "outputs": [
    {
     "data": {
      "text/plain": [
       "Text(0, 0.5, 'Frequência')"
      ]
     },
     "execution_count": 19,
     "metadata": {},
     "output_type": "execute_result"
    },
    {
     "data": {
      "image/png": "[encoded data removed]",
      "text/plain": [
       "<Figure size 640x480 with 1 Axes>"
      ]
     },
     "metadata": {},
     "output_type": "display_data"
    }
   ],
   "source": [
    "plt.hist(areas[\"Cozinha\"], bins = 8, edgecolor = \"black\")\n",
    "plt.title(\"Distribuição das Áreas da Cozinha\")\n",
    "plt.xlabel(\"Áreas\")\n",
    "plt.ylabel(\"Frequência\")"
   ]
  },
  {
   "cell_type": "code",
   "execution_count": 20,
   "id": "098c93ec-e595-46e7-8b2e-cbd089030455",
   "metadata": {
    "tags": []
   },
   "outputs": [
    {
     "data": {
      "text/plain": [
       "Text(0, 0.5, 'Frequência')"
      ]
     },
     "execution_count": 20,
     "metadata": {},
     "output_type": "execute_result"
    },
    {
     "data": {
      "image/png": "[encoded data removed]",
      "text/plain": [
       "<Figure size 640x480 with 1 Axes>"
      ]
     },
     "metadata": {},
     "output_type": "display_data"
    }
   ],
   "source": [
    "plt.hist(areas[\"Banheiro\"], bins = 8, edgecolor = \"black\")\n",
    "plt.title(\"Distribuição das Áreas da Banheiro\")\n",
    "plt.xlabel(\"Áreas\")\n",
    "plt.ylabel(\"Frequência\")"
   ]
  },
  {
   "cell_type": "code",
   "execution_count": 21,
   "id": "95889891-267a-4e17-9f8f-1257ec9da5cd",
   "metadata": {
    "tags": []
   },
   "outputs": [
    {
     "data": {
      "text/plain": [
       "Text(0, 0.5, 'Frequência')"
      ]
     },
     "execution_count": 21,
     "metadata": {},
     "output_type": "execute_result"
    },
    {
     "data": {
      "image/png": "[encoded data removed]",
      "text/plain": [
       "<Figure size 640x480 with 1 Axes>"
      ]
     },
     "metadata": {},
     "output_type": "display_data"
    }
   ],
   "source": [
    "plt.hist(areas[\"Dorm\"], bins = 8, edgecolor = \"black\")\n",
    "plt.title(\"Distribuição das Áreas da Dorm\")\n",
    "plt.xlabel(\"Áreas\")\n",
    "plt.ylabel(\"Frequência\")"
   ]
  },
  {
   "cell_type": "code",
   "execution_count": 22,
   "id": "73dd4035-f75c-4c35-ae8c-49ae9541bf4a",
   "metadata": {
    "tags": []
   },
   "outputs": [
    {
     "data": {
      "text/plain": [
       "Text(0, 0.5, 'Frequência')"
      ]
     },
     "execution_count": 22,
     "metadata": {},
     "output_type": "execute_result"
    },
    {
     "data": {
      "image/png": "[encoded data removed]",
      "text/plain": [
       "<Figure size 640x480 with 1 Axes>"
      ]
     },
     "metadata": {},
     "output_type": "display_data"
    }
   ],
   "source": [
    "plt.hist(areas[\"Área Total\"], bins = 8, edgecolor = \"black\")\n",
    "plt.title(\"Distribuição das Áreas da Área Total\")\n",
    "plt.xlabel(\"Áreas\")\n",
    "plt.ylabel(\"Frequência\")"
   ]
  },
  {
   "cell_type": "code",
   "execution_count": 23,
   "id": "1b5ecbe2-556f-4720-9018-7b0166f89bf5",
   "metadata": {
    "tags": []
   },
   "outputs": [
    {
     "data": {
      "text/plain": [
       "Bloco\n",
       "A    28.093421\n",
       "B    23.131579\n",
       "Name: Sala, dtype: float64"
      ]
     },
     "execution_count": 23,
     "metadata": {},
     "output_type": "execute_result"
    }
   ],
   "source": [
    "# 4.a) Calcule a média e o desvio-padrão da área de cada cômodo e também da área total\n",
    "areas.groupby([\"Bloco\"])[\"Sala\"].mean()"
   ]
  },
  {
   "cell_type": "code",
   "execution_count": 24,
   "id": "df58fb58-b647-4d5b-a449-0d0769190458",
   "metadata": {
    "tags": []
   },
   "outputs": [
    {
     "data": {
      "text/plain": [
       "Bloco\n",
       "A    1.082631\n",
       "B    0.848875\n",
       "Name: Sala, dtype: float64"
      ]
     },
     "execution_count": 24,
     "metadata": {},
     "output_type": "execute_result"
    }
   ],
   "source": [
    "areas.groupby([\"Bloco\"])[\"Sala\"].std()"
   ]
  },
  {
   "cell_type": "code",
   "execution_count": 25,
   "id": "857759b6-0a6f-4d51-a186-ded85859dd92",
   "metadata": {
    "tags": []
   },
   "outputs": [
    {
     "data": {
      "text/plain": [
       "Bloco\n",
       "A    7.928947\n",
       "B    7.881579\n",
       "Name: Cozinha, dtype: float64"
      ]
     },
     "execution_count": 25,
     "metadata": {},
     "output_type": "execute_result"
    }
   ],
   "source": [
    "areas.groupby([\"Bloco\"])[\"Cozinha\"].mean()"
   ]
  },
  {
   "cell_type": "code",
   "execution_count": 26,
   "id": "eec956eb-4a33-4618-beb9-5c3bffc6518e",
   "metadata": {
    "tags": []
   },
   "outputs": [
    {
     "data": {
      "text/plain": [
       "Bloco\n",
       "A    0.465279\n",
       "B    0.604805\n",
       "Name: Cozinha, dtype: float64"
      ]
     },
     "execution_count": 26,
     "metadata": {},
     "output_type": "execute_result"
    }
   ],
   "source": [
    "areas.groupby([\"Bloco\"])[\"Cozinha\"].std()"
   ]
  },
  {
   "cell_type": "code",
   "execution_count": 27,
   "id": "5958d26d-2ff2-4bb3-8da6-642737cf9c01",
   "metadata": {
    "tags": []
   },
   "outputs": [
    {
     "data": {
      "text/plain": [
       "Bloco\n",
       "A    4.450000\n",
       "B    4.464474\n",
       "Name: Banheiro, dtype: float64"
      ]
     },
     "execution_count": 27,
     "metadata": {},
     "output_type": "execute_result"
    }
   ],
   "source": [
    "areas.groupby([\"Bloco\"])[\"Banheiro\"].mean()"
   ]
  },
  {
   "cell_type": "code",
   "execution_count": 28,
   "id": "08684172-d84a-4d5a-923d-5f740c47b658",
   "metadata": {
    "tags": []
   },
   "outputs": [
    {
     "data": {
      "text/plain": [
       "Bloco\n",
       "A    0.462313\n",
       "B    0.515805\n",
       "Name: Banheiro, dtype: float64"
      ]
     },
     "execution_count": 28,
     "metadata": {},
     "output_type": "execute_result"
    }
   ],
   "source": [
    "areas.groupby([\"Bloco\"])[\"Banheiro\"].std()"
   ]
  },
  {
   "cell_type": "code",
   "execution_count": 29,
   "id": "a88ccb98-e33f-474c-886a-269c9a1bf8af",
   "metadata": {
    "tags": []
   },
   "outputs": [
    {
     "data": {
      "text/plain": [
       "Bloco\n",
       "A    12.950000\n",
       "B    12.928947\n",
       "Name: Dorm, dtype: float64"
      ]
     },
     "execution_count": 29,
     "metadata": {},
     "output_type": "execute_result"
    }
   ],
   "source": [
    "areas.groupby([\"Bloco\"])[\"Dorm\"].mean()"
   ]
  },
  {
   "cell_type": "code",
   "execution_count": 30,
   "id": "b52fa68a-9e85-496d-8c1f-0724789128ea",
   "metadata": {
    "tags": []
   },
   "outputs": [
    {
     "data": {
      "text/plain": [
       "Bloco\n",
       "A    1.172860\n",
       "B    1.176528\n",
       "Name: Dorm, dtype: float64"
      ]
     },
     "execution_count": 30,
     "metadata": {},
     "output_type": "execute_result"
    }
   ],
   "source": [
    "areas.groupby([\"Bloco\"])[\"Dorm\"].std()"
   ]
  },
  {
   "cell_type": "code",
   "execution_count": 31,
   "id": "d1671315-7237-4468-a740-6977c119d588",
   "metadata": {
    "tags": []
   },
   "outputs": [
    {
     "data": {
      "text/plain": [
       "Bloco\n",
       "A    53.422368\n",
       "B    48.406579\n",
       "Name: Área Total, dtype: float64"
      ]
     },
     "execution_count": 31,
     "metadata": {},
     "output_type": "execute_result"
    }
   ],
   "source": [
    "areas.groupby([\"Bloco\"])[\"Área Total\"].mean()"
   ]
  },
  {
   "cell_type": "code",
   "execution_count": 32,
   "id": "ee5c0731-ceae-461f-ae47-b2a4307550b1",
   "metadata": {
    "tags": []
   },
   "outputs": [
    {
     "data": {
      "text/plain": [
       "Bloco\n",
       "A    1.771749\n",
       "B    1.537906\n",
       "Name: Área Total, dtype: float64"
      ]
     },
     "execution_count": 32,
     "metadata": {},
     "output_type": "execute_result"
    }
   ],
   "source": [
    "areas.groupby([\"Bloco\"])[\"Área Total\"].std()"
   ]
  },
  {
   "cell_type": "code",
   "execution_count": 33,
   "id": "b0586574-2ee2-44c3-ae68-12e45640f6d3",
   "metadata": {
    "tags": []
   },
   "outputs": [],
   "source": [
    "import seaborn as sns"
   ]
  },
  {
   "cell_type": "code",
   "execution_count": 35,
   "id": "e35c8ab8-cdd8-4bd9-bd47-03f325fdd2e0",
   "metadata": {
    "tags": []
   },
   "outputs": [
    {
     "data": {
      "text/plain": [
       "<Axes: xlabel='Bloco', ylabel='Sala'>"
      ]
     },
     "execution_count": 35,
     "metadata": {},
     "output_type": "execute_result"
    },
    {
     "data": {
      "image/png": "[encoded data removed]",
      "text/plain": [
       "<Figure size 640x480 with 1 Axes>"
      ]
     },
     "metadata": {},
     "output_type": "display_data"
    }
   ],
   "source": [
    "# 4.b) Construa boxplots e compare as áreas para cada cômodo considerado\n",
    "sns.boxplot(x = \"Bloco\", y = \"Sala\", data = areas)"
   ]
  },
  {
   "cell_type": "code",
   "execution_count": 36,
   "id": "1351f283-b82e-4a52-9e60-4a2af280c88a",
   "metadata": {
    "tags": []
   },
   "outputs": [
    {
     "data": {
      "text/plain": [
       "<Axes: xlabel='Bloco', ylabel='Cozinha'>"
      ]
     },
     "execution_count": 36,
     "metadata": {},
     "output_type": "execute_result"
    },
    {
     "data": {
      "image/png": "[encoded data removed]",
      "text/plain": [
       "<Figure size 640x480 with 1 Axes>"
      ]
     },
     "metadata": {},
     "output_type": "display_data"
    }
   ],
   "source": [
    "sns.boxplot(x = \"Bloco\", y = \"Cozinha\", data = areas)"
   ]
  },
  {
   "cell_type": "code",
   "execution_count": 37,
   "id": "fe58d56f-bdcd-402a-b26d-70e7a1bc4eec",
   "metadata": {
    "tags": []
   },
   "outputs": [
    {
     "data": {
      "text/plain": [
       "<Axes: xlabel='Bloco', ylabel='Banheiro'>"
      ]
     },
     "execution_count": 37,
     "metadata": {},
     "output_type": "execute_result"
    },
    {
     "data": {
      "image/png": "[encoded data removed]",
      "text/plain": [
       "<Figure size 640x480 with 1 Axes>"
      ]
     },
     "metadata": {},
     "output_type": "display_data"
    }
   ],
   "source": [
    "sns.boxplot(x = \"Bloco\", y = \"Banheiro\", data = areas)"
   ]
  },
  {
   "cell_type": "code",
   "execution_count": 38,
   "id": "728ea1b3-8596-41a9-962f-899aced38e5b",
   "metadata": {
    "tags": []
   },
   "outputs": [
    {
     "data": {
      "text/plain": [
       "<Axes: xlabel='Bloco', ylabel='Dorm'>"
      ]
     },
     "execution_count": 38,
     "metadata": {},
     "output_type": "execute_result"
    },
    {
     "data": {
      "image/png": "[encoded data removed]",
      "text/plain": [
       "<Figure size 640x480 with 1 Axes>"
      ]
     },
     "metadata": {},
     "output_type": "display_data"
    }
   ],
   "source": [
    "sns.boxplot(x = \"Bloco\", y = \"Dorm\", data = areas)"
   ]
  },
  {
   "cell_type": "code",
   "execution_count": 39,
   "id": "52c631cd-695c-4161-b11c-8259a4124273",
   "metadata": {
    "tags": []
   },
   "outputs": [
    {
     "data": {
      "text/plain": [
       "<Axes: xlabel='Bloco', ylabel='Área Total'>"
      ]
     },
     "execution_count": 39,
     "metadata": {},
     "output_type": "execute_result"
    },
    {
     "data": {
      "image/png": "[encoded data removed]",
      "text/plain": [
       "<Figure size 640x480 with 1 Axes>"
      ]
     },
     "metadata": {},
     "output_type": "display_data"
    }
   ],
   "source": [
    "sns.boxplot(x = \"Bloco\", y = \"Área Total\", data = areas)"
   ]
  },
  {
   "cell_type": "code",
   "execution_count": null,
   "id": "06bfe8a4-42a6-43cb-8fc2-602a92987f06",
   "metadata": {},
   "outputs": [],
   "source": [
    "# 4.c) Com base em seus achados, você diria que existem diferenças nas áreas dos apartamentos dos blocos A e B? Em caso positivo, qual (is) cômodo (s) apresenta (m) o problema?\n",
    "# Sim, os que possuem maior diferença como a sala e a área total."
   ]
  }
 ],
 "metadata": {
  "kernelspec": {
   "display_name": "Python 3 (ipykernel)",
   "language": "python",
   "name": "python3"
  },
  "language_info": {
   "codemirror_mode": {
    "name": "ipython",
    "version": 3
   },
   "file_extension": ".py",
   "mimetype": "text/x-python",
   "name": "python",
   "nbconvert_exporter": "python",
   "pygments_lexer": "ipython3",
   "version": "3.11.5"
  }
 },
 "nbformat": 4,
 "nbformat_minor": 5
}
