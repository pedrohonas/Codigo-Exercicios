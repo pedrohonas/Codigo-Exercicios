{
  "nbformat": 4,
  "nbformat_minor": 0,
  "metadata": {
    "colab": {
      "provenance": []
    },
    "kernelspec": {
      "name": "python3",
      "display_name": "Python 3"
    },
    "language_info": {
      "name": "python"
    }
  },
  "cells": [
    {
      "cell_type": "code",
      "execution_count": 5,
      "metadata": {
        "colab": {
          "base_uri": "https://localhost:8080/"
        },
        "id": "J2x_PEgC4s4m",
        "outputId": "dd7c8b54-e288-41c1-8953-3c363c4d069c"
      },
      "outputs": [
        {
          "output_type": "stream",
          "name": "stdout",
          "text": [
            "Meu nome é Pedro, tenho 22 anos e minha altura é 1.74 metros\n"
          ]
        }
      ],
      "source": [
        "# Exercício 1\n",
        "nome = \"Pedro\"\n",
        "idade = 22\n",
        "altura = 1.74\n",
        "\n",
        "print(\"Meu nome é {a}, tenho {b} anos e minha altura é {c} metros\".format(a = nome, b = idade, c = altura))"
      ]
    },
    {
      "cell_type": "code",
      "source": [
        "# Exercício 2\n",
        "frase = \"Python é uma linguagem de programação muito poderosa.\"\n",
        "\n",
        "frase.upper()"
      ],
      "metadata": {
        "colab": {
          "base_uri": "https://localhost:8080/",
          "height": 36
        },
        "id": "iK9eaA3b9Z59",
        "outputId": "a39c7d94-5983-474f-e8ac-ddfe773bbd17"
      },
      "execution_count": 6,
      "outputs": [
        {
          "output_type": "execute_result",
          "data": {
            "text/plain": [
              "'PYTHON É UMA LINGUAGEM DE PROGRAMAÇÃO MUITO PODEROSA.'"
            ],
            "application/vnd.google.colaboratory.intrinsic+json": {
              "type": "string"
            }
          },
          "metadata": {},
          "execution_count": 6
        }
      ]
    },
    {
      "cell_type": "code",
      "source": [
        "# Exercício 2\n",
        "frase = \"Python é uma linguagem de programação muito poderosa.\"\n",
        "\n",
        "frase.lower()"
      ],
      "metadata": {
        "colab": {
          "base_uri": "https://localhost:8080/",
          "height": 36
        },
        "id": "7pfw-enj94dj",
        "outputId": "bfbec42c-eefa-483f-925e-1cfe4f3c743f"
      },
      "execution_count": 7,
      "outputs": [
        {
          "output_type": "execute_result",
          "data": {
            "text/plain": [
              "'python é uma linguagem de programação muito poderosa.'"
            ],
            "application/vnd.google.colaboratory.intrinsic+json": {
              "type": "string"
            }
          },
          "metadata": {},
          "execution_count": 7
        }
      ]
    },
    {
      "cell_type": "code",
      "source": [
        "# Exercício 2\n",
        "frase = \"Python é uma linguagem de programação muito poderosa.\"\n",
        "\n",
        "frase.replace(\"muito\", \"extremamente\")"
      ],
      "metadata": {
        "colab": {
          "base_uri": "https://localhost:8080/",
          "height": 36
        },
        "id": "vFdld8de94Lr",
        "outputId": "5611eaa3-4c37-498f-ecf3-824ad86e38da"
      },
      "execution_count": 9,
      "outputs": [
        {
          "output_type": "execute_result",
          "data": {
            "text/plain": [
              "'Python é uma linguagem de programação extremamente poderosa.'"
            ],
            "application/vnd.google.colaboratory.intrinsic+json": {
              "type": "string"
            }
          },
          "metadata": {},
          "execution_count": 9
        }
      ]
    },
    {
      "cell_type": "code",
      "source": [
        "# Exercício 2\n",
        "frase = \"Python é uma linguagem de programação muito poderosa.\"\n",
        "\n",
        "frase.split()"
      ],
      "metadata": {
        "colab": {
          "base_uri": "https://localhost:8080/"
        },
        "id": "4ySD1VVA98_6",
        "outputId": "72015597-6ef3-4a41-bc8e-1ffd90a0b21b"
      },
      "execution_count": 8,
      "outputs": [
        {
          "output_type": "execute_result",
          "data": {
            "text/plain": [
              "['Python', 'é', 'uma', 'linguagem', 'de', 'programação', 'muito', 'poderosa.']"
            ]
          },
          "metadata": {},
          "execution_count": 8
        }
      ]
    },
    {
      "cell_type": "code",
      "source": [
        "# Exercício 3\n",
        "frutas = [\"maçã\", \"banana\", \"laranja\", \"uva\", \"abacaxi\"]\n",
        "\n",
        "frutas"
      ],
      "metadata": {
        "colab": {
          "base_uri": "https://localhost:8080/"
        },
        "id": "vG2iVVv_-oZD",
        "outputId": "19a35818-edd2-442c-8504-08a5be59f09d"
      },
      "execution_count": 18,
      "outputs": [
        {
          "output_type": "execute_result",
          "data": {
            "text/plain": [
              "['maçã', 'banana', 'laranja', 'uva', 'abacaxi']"
            ]
          },
          "metadata": {},
          "execution_count": 18
        }
      ]
    },
    {
      "cell_type": "code",
      "source": [
        "# Exercício 3\n",
        "frutas = [\"maçã\", \"banana\", \"laranja\", \"uva\", \"abacaxi\"]\n",
        "\n",
        "frutas.append(\"manga\")\n",
        "frutas"
      ],
      "metadata": {
        "colab": {
          "base_uri": "https://localhost:8080/"
        },
        "id": "-qa7oDLl_KK4",
        "outputId": "83ccd732-c72b-4738-a6e2-87263d0c6ebd"
      },
      "execution_count": 19,
      "outputs": [
        {
          "output_type": "execute_result",
          "data": {
            "text/plain": [
              "['maçã', 'banana', 'laranja', 'uva', 'abacaxi', 'manga']"
            ]
          },
          "metadata": {},
          "execution_count": 19
        }
      ]
    },
    {
      "cell_type": "code",
      "source": [
        "# Exercício 3\n",
        "frutas = [\"maçã\", \"banana\", \"laranja\", \"uva\", \"abacaxi\"]\n",
        "\n",
        "frutas.remove(\"laranja\")\n",
        "frutas"
      ],
      "metadata": {
        "colab": {
          "base_uri": "https://localhost:8080/"
        },
        "id": "Mp7EqVGT_W8G",
        "outputId": "7c105602-22d3-463c-bd13-ace990b6d3fc"
      },
      "execution_count": 20,
      "outputs": [
        {
          "output_type": "execute_result",
          "data": {
            "text/plain": [
              "['maçã', 'banana', 'uva', 'abacaxi']"
            ]
          },
          "metadata": {},
          "execution_count": 20
        }
      ]
    },
    {
      "cell_type": "code",
      "source": [
        "# Exercício 3\n",
        "frutas = [\"maçã\", \"banana\", \"laranja\", \"uva\", \"abacaxi\"]\n",
        "\n",
        "frutas[2]"
      ],
      "metadata": {
        "colab": {
          "base_uri": "https://localhost:8080/",
          "height": 36
        },
        "id": "8NWzxCgY_gGG",
        "outputId": "968a2d28-f01b-486b-e55b-c5451524cad2"
      },
      "execution_count": 21,
      "outputs": [
        {
          "output_type": "execute_result",
          "data": {
            "text/plain": [
              "'laranja'"
            ],
            "application/vnd.google.colaboratory.intrinsic+json": {
              "type": "string"
            }
          },
          "metadata": {},
          "execution_count": 21
        }
      ]
    },
    {
      "cell_type": "code",
      "source": [
        "# Exercício 3\n",
        "frutas = [\"maçã\", \"banana\", \"laranja\", \"uva\", \"abacaxi\"]\n",
        "\n",
        "frutas.sort()\n",
        "frutas"
      ],
      "metadata": {
        "colab": {
          "base_uri": "https://localhost:8080/"
        },
        "id": "uRaW50yq_3nt",
        "outputId": "13bf0537-61b4-4cec-cca0-78ffd6e6b669"
      },
      "execution_count": 22,
      "outputs": [
        {
          "output_type": "execute_result",
          "data": {
            "text/plain": [
              "['abacaxi', 'banana', 'laranja', 'maçã', 'uva']"
            ]
          },
          "metadata": {},
          "execution_count": 22
        }
      ]
    },
    {
      "cell_type": "code",
      "source": [
        "# Exercício 3\n",
        "numeros = [10, 5, 8, 3, 6]\n",
        "sum(numeros)"
      ],
      "metadata": {
        "colab": {
          "base_uri": "https://localhost:8080/"
        },
        "id": "3e1g1QDHAdHc",
        "outputId": "8eb6200d-c66f-44c8-9717-a1ab2770d34f"
      },
      "execution_count": 30,
      "outputs": [
        {
          "output_type": "execute_result",
          "data": {
            "text/plain": [
              "32"
            ]
          },
          "metadata": {},
          "execution_count": 30
        }
      ]
    },
    {
      "cell_type": "code",
      "source": [
        "# Exercício 6\n",
        "print(\"Digite seu peso em kg: \")\n",
        "a = input()\n",
        "print(\"Digite sua altura em m: \")\n",
        "b = input()\n",
        "\n",
        "IMC = float(a)/(float(b)*float(b))\n",
        "\n",
        "print(\"Seu IMC é:\", IMC)\n"
      ],
      "metadata": {
        "colab": {
          "base_uri": "https://localhost:8080/"
        },
        "id": "mJzDQQHjBDVN",
        "outputId": "5157c7cc-aaf3-4b47-dfb9-6dfaa9ed9e7b"
      },
      "execution_count": 45,
      "outputs": [
        {
          "output_type": "stream",
          "name": "stdout",
          "text": [
            "Digite seu peso em kg: \n",
            "84\n",
            "Digite sua altura em cm: \n",
            "1.74\n",
            "Seu IMC é: 27.74474831549742\n"
          ]
        }
      ]
    },
    {
      "cell_type": "code",
      "source": [
        "# Exercício 7\n",
        "print(\"Qual é o seu nome completo?: \")\n",
        "nome = input()\n",
        "listanome = nome.split()\n",
        "\n",
        "print(\"Prezado {a}. Como vai a vida?\".format(a = listanome[0]))"
      ],
      "metadata": {
        "colab": {
          "base_uri": "https://localhost:8080/"
        },
        "id": "BCRuZuiREeN8",
        "outputId": "e66e9122-8b40-4f41-dd3c-52d25a9df90f"
      },
      "execution_count": 46,
      "outputs": [
        {
          "output_type": "stream",
          "name": "stdout",
          "text": [
            "Qual é o seu nome completo?: \n",
            "Pedro Henrique Oliveira do Nascimento\n",
            "Prezado Pedro. Como vai a vida?\n"
          ]
        }
      ]
    },
    {
      "cell_type": "code",
      "source": [
        "# Exercício 8\n",
        "print(\"Qual é o seu e-mail? \")\n",
        "a = input()\n",
        "listaa = a.split(\"@\")\n",
        "\n",
        "print(\"Seu domínio é:\", listaa[1])"
      ],
      "metadata": {
        "colab": {
          "base_uri": "https://localhost:8080/"
        },
        "id": "gUNULkeXEhiM",
        "outputId": "b5e6d87d-b145-452c-aa4b-fbce49620e03"
      },
      "execution_count": 50,
      "outputs": [
        {
          "output_type": "stream",
          "name": "stdout",
          "text": [
            "Qual é o seu e-mail? \n",
            "pedrohonascimento@gmail.com\n",
            "Seu domínio é: gmail.com\n"
          ]
        }
      ]
    }
  ]
}